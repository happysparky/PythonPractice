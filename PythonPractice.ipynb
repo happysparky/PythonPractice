{
  "nbformat": 4,
  "nbformat_minor": 0,
  "metadata": {
    "colab": {
      "name": "HW1_Zha_Leon.ipynb",
      "provenance": [],
      "collapsed_sections": []
    },
    "kernelspec": {
      "name": "python3",
      "display_name": "Python 3"
    }
  },
  "cells": [
    {
      "cell_type": "markdown",
      "metadata": {
        "id": "hm8RAKinXsIP"
      },
      "source": [
        "## **Homework 1**\n",
        "\n",
        "### Create a copy of the notebook to start answering the questions. Name your notebook in the format HW1_lastname_firstname.ipynb to facilitate the grading process. \n",
        "\n",
        "### Answer all the questions, test your code to ensure there are no errors and the results are as expected. Once you have answered all the questions, save the final copy, then go to File-> click on Download.ipynb. Once the local copy has been downloaded, submit your file on Blackboard under the corresponding assignment section. Also provide us a link to your notebook during submission. \n",
        "\n",
        "### **The due date of this homework is 02/05/2021 (Friday).**\n",
        "\n",
        "### Please ensure you follow all the steps mentioned in the homework.\n",
        "\n",
        "### All the questions have a sample input and output to help you understand the question. Please note that your programs will be tested for other sets of inputs and outputs along with the sample provided. So test your code for other inputs.\n",
        "\n",
        "### You can submit your solutions any number of times until the deadline.\n"
      ]
    },
    {
      "cell_type": "markdown",
      "metadata": {
        "id": "uacFrEaZfcfq"
      },
      "source": [
        "##### Q1. Write a program that prompts the user to enter a password then prints the length of the password.\n",
        "\n",
        "```\n",
        "Enter your password: hello\n",
        "Your password is 5 long.\n",
        "```\n",
        "\n",
        "\n"
      ]
    },
    {
      "cell_type": "code",
      "metadata": {
        "id": "avPyES14ftCt",
        "colab": {
          "base_uri": "https://localhost:8080/"
        },
        "outputId": "ef9cba85-05f3-47da-e1db-b6756d191a0f"
      },
      "source": [
        "# Type solution here\r\n",
        "password = input(\"Enter your password: \")\r\n",
        "print(\"Your password is \" + str(len(password)) + \" long.\")"
      ],
      "execution_count": 1,
      "outputs": [
        {
          "output_type": "stream",
          "text": [
            "Enter your password: goodbye\n",
            "Your password is 7 long.\n"
          ],
          "name": "stdout"
        }
      ]
    },
    {
      "cell_type": "markdown",
      "metadata": {
        "id": "ekh-kABuItli"
      },
      "source": [
        ""
      ]
    },
    {
      "cell_type": "markdown",
      "metadata": {
        "id": "K1yko-xUItU3"
      },
      "source": [
        ""
      ]
    },
    {
      "cell_type": "markdown",
      "metadata": {
        "id": "behD0j_Of2TW"
      },
      "source": [
        "##### Q2. Write a program that prompts the user to enter their full name then prints the number of characters in their name (do not count spaces).\n",
        "\n",
        "```\n",
        "What is your name? Amulya Katti\n",
        "Amulya Katti your name has 11 characters.\n",
        "```"
      ]
    },
    {
      "cell_type": "code",
      "metadata": {
        "id": "XSdIRjwlhSlu",
        "colab": {
          "base_uri": "https://localhost:8080/"
        },
        "outputId": "51b5aa13-9ab6-4b49-ef46-334c84eb63fe"
      },
      "source": [
        "# Type solution here\r\n",
        "fullName = input(\"What is your name? \")\r\n",
        "print(fullName + \" your name has \" + str(len(fullName.replace(\" \", \"\"))) + \" characters.\")"
      ],
      "execution_count": 2,
      "outputs": [
        {
          "output_type": "stream",
          "text": [
            "What is your name? bob joe\n",
            "bob joe your name has 6 characters.\n"
          ],
          "name": "stdout"
        }
      ]
    },
    {
      "cell_type": "markdown",
      "metadata": {
        "id": "5KHOWF6FhVHV"
      },
      "source": [
        "##### Q3. Write a program that prompts the user to enter a month (as a number), then prints the name of the month and the number of days in that month. Ensure that the user inputs a valid month and handle any error cases.\n",
        "\n",
        "```\n",
        "Enter the month number: 9\n",
        "September has 30 days\n",
        "```"
      ]
    },
    {
      "cell_type": "code",
      "metadata": {
        "id": "KhS-SAEThyTG",
        "colab": {
          "base_uri": "https://localhost:8080/"
        },
        "outputId": "98c044be-367e-45af-ce85-97748b91c2e6"
      },
      "source": [
        "# Type solution here\r\n",
        "mNames = {1:\"January\", 2:\"February\", 3:\"March\", 4:\"April\", 5:\"May\", 6:\"June\", 7:\"July\", 8:\"August\",\r\n",
        "          9:\"September\", 10:\"October\", 11:\"November\", 12:\"December\"}\r\n",
        "days = {1:31, 2:28, 3:31, 4:30, 5:31, 6:30, 7:31, 8:31, 9:30, 10:31, 11:30, 12:31}\r\n",
        "enter = input(\"Enter the month number: \")\r\n",
        "while not enter.isnumeric() or (int(enter) > 12 or int(enter) < 1):\r\n",
        "  print(\"Invalid month. \")\r\n",
        "  enter = input(\"Enter the month number: \")\r\n",
        "\r\n",
        "enter = int(enter)\r\n",
        "print(mNames[enter],\"has\", days[enter],\"days.\")"
      ],
      "execution_count": 4,
      "outputs": [
        {
          "output_type": "stream",
          "text": [
            "Enter the month number: september\n",
            "Invalid month. \n",
            "Enter the month number: January\n",
            "Invalid month. \n",
            "Enter the month number: 5\n",
            "May has 31 days.\n"
          ],
          "name": "stdout"
        }
      ]
    },
    {
      "cell_type": "markdown",
      "metadata": {
        "id": "O7lnAdGlh6Xa"
      },
      "source": [
        "##### Q4. Write a program that prompts the user to enter a loan amount, annual interest rate, and number of years  for a car loan. Then calculate and print the monthly payment amount.\n",
        "\n",
        "Note:\n",
        "```\n",
        "PMT= [PV*i*((1+i)^n)]/[((1+i)^n)-1]\n",
        "```\n",
        "PMT is the monthly payment\n",
        "\n",
        "PV is the loan amount\n",
        "\n",
        "i is the interest rate per month in decimal form (interest rate percentage divided by 12)\n",
        "\n",
        "n is the number of months (term of the loan in months)\n",
        "\n",
        "```\n",
        "Loan Amount: 30000.00\n",
        "Annual Interest Rate: 4.00\n",
        "Years: 5\n",
        "Your monthly payment is: $552.50\n",
        "```"
      ]
    },
    {
      "cell_type": "code",
      "metadata": {
        "id": "p4B5JH5GiTs9",
        "colab": {
          "base_uri": "https://localhost:8080/"
        },
        "outputId": "bc26bf82-cfec-449c-dea6-a3a7c5ef8a5c"
      },
      "source": [
        "# Type solution here\r\n",
        "loan = float(input(\"Loan Amount: \"))\r\n",
        "interestRate = float(input(\"Annual Interest Rate: \"))/100/12\r\n",
        "time = float(input(\"Years: \"))*12\r\n",
        "pmt = (loan*interestRate*((1+interestRate)**time))/(((1+interestRate)**time)-1)\r\n",
        "print(\"Your monthly payment is: ${:.2f}\".format(round(pmt, 2)))\r\n"
      ],
      "execution_count": 11,
      "outputs": [
        {
          "output_type": "stream",
          "text": [
            "Loan Amount: 30000\n",
            "Annual Interest Rate: 4.00\n",
            "Years: 5\n",
            "Your monthly payment is: $552.50\n"
          ],
          "name": "stdout"
        }
      ]
    },
    {
      "cell_type": "markdown",
      "metadata": {
        "id": "SjiolJKgiWV-"
      },
      "source": [
        "##### Q5. Write a program to that prompts the user to enter a string. Then check whether or not the string is a palindrome.\n",
        "\n",
        "```\n",
        "Enter a string: Madam\n",
        "Madam, is a palindrome!\n",
        "```"
      ]
    },
    {
      "cell_type": "code",
      "metadata": {
        "id": "F5_M934Ri0es",
        "colab": {
          "base_uri": "https://localhost:8080/"
        },
        "outputId": "9ed94e73-9886-4d67-c848-b390a1a75b19"
      },
      "source": [
        "# Type solution here\r\n",
        "s = input(\"Enter a string: \")\r\n",
        "isPalindrome = True;\r\n",
        "for i in range(int(len(s)/2)):\r\n",
        "  if s[i].lower() != s[len(s)-1-i].lower():\r\n",
        "    isPalindrome = False;\r\n",
        "    break;\r\n",
        "if(isPalindrome):\r\n",
        "  print(s+\", is a palindrome!\")\r\n",
        "else:\r\n",
        "  print(s+\", is not a palindrome!\")"
      ],
      "execution_count": 14,
      "outputs": [
        {
          "output_type": "stream",
          "text": [
            "Enter a string: racecar\n",
            "racecar, is a palindrome!\n"
          ],
          "name": "stdout"
        }
      ]
    },
    {
      "cell_type": "markdown",
      "metadata": {
        "id": "BLBD6n9vkJEu"
      },
      "source": [
        "##### Q6. Write a program to compute and print all possible combinations of change for \\$1. Denominations to be considered – quarter, dime, nickel, penny.\n",
        "\n",
        "Hint: Use nested loops (loops within loops for the various denominations of coins)\n",
        "\n",
        "```\n",
        "Change for $1:\n",
        "0 quarters, 0 dimes, 0 nickels, 100 pennies\n",
        "…\n",
        "4 quarters, 0 dimes, 0 nickels, 0 pennies\n",
        "```"
      ]
    },
    {
      "cell_type": "code",
      "metadata": {
        "id": "kAQsTjwDkZZ5",
        "colab": {
          "base_uri": "https://localhost:8080/"
        },
        "outputId": "0ff019fa-1a59-4d14-adad-143d6841bb08"
      },
      "source": [
        "# Type solution here\r\n",
        "\r\n",
        "penny = 1\r\n",
        "nickel = 5\r\n",
        "dime = 10\r\n",
        "quarter = 25\r\n",
        "start = 100\r\n",
        "\r\n",
        "for q in range(int(start/quarter)+1):\r\n",
        "  lessQ = start-quarter*q\r\n",
        "  for d in range(int(lessQ/dime)+1):\r\n",
        "    lessQD = lessQ-dime*d\r\n",
        "    for n in range(int(lessQD/nickel)+1):\r\n",
        "      p = lessQD-nickel*n\r\n",
        "      print(str(q) + \" quarters \" + str(d) + \" dimes \" + str(n) + \" nickels \" + \\\r\n",
        "              str(p) + \" pennies\")\r\n",
        "\r\n"
      ],
      "execution_count": 7,
      "outputs": [
        {
          "output_type": "stream",
          "text": [
            "0 quarters 0 dimes 0 nickels 100 pennies\n",
            "0 quarters 0 dimes 1 nickels 95 pennies\n",
            "0 quarters 0 dimes 2 nickels 90 pennies\n",
            "0 quarters 0 dimes 3 nickels 85 pennies\n",
            "0 quarters 0 dimes 4 nickels 80 pennies\n",
            "0 quarters 0 dimes 5 nickels 75 pennies\n",
            "0 quarters 0 dimes 6 nickels 70 pennies\n",
            "0 quarters 0 dimes 7 nickels 65 pennies\n",
            "0 quarters 0 dimes 8 nickels 60 pennies\n",
            "0 quarters 0 dimes 9 nickels 55 pennies\n",
            "0 quarters 0 dimes 10 nickels 50 pennies\n",
            "0 quarters 0 dimes 11 nickels 45 pennies\n",
            "0 quarters 0 dimes 12 nickels 40 pennies\n",
            "0 quarters 0 dimes 13 nickels 35 pennies\n",
            "0 quarters 0 dimes 14 nickels 30 pennies\n",
            "0 quarters 0 dimes 15 nickels 25 pennies\n",
            "0 quarters 0 dimes 16 nickels 20 pennies\n",
            "0 quarters 0 dimes 17 nickels 15 pennies\n",
            "0 quarters 0 dimes 18 nickels 10 pennies\n",
            "0 quarters 0 dimes 19 nickels 5 pennies\n",
            "0 quarters 0 dimes 20 nickels 0 pennies\n",
            "0 quarters 1 dimes 0 nickels 90 pennies\n",
            "0 quarters 1 dimes 1 nickels 85 pennies\n",
            "0 quarters 1 dimes 2 nickels 80 pennies\n",
            "0 quarters 1 dimes 3 nickels 75 pennies\n",
            "0 quarters 1 dimes 4 nickels 70 pennies\n",
            "0 quarters 1 dimes 5 nickels 65 pennies\n",
            "0 quarters 1 dimes 6 nickels 60 pennies\n",
            "0 quarters 1 dimes 7 nickels 55 pennies\n",
            "0 quarters 1 dimes 8 nickels 50 pennies\n",
            "0 quarters 1 dimes 9 nickels 45 pennies\n",
            "0 quarters 1 dimes 10 nickels 40 pennies\n",
            "0 quarters 1 dimes 11 nickels 35 pennies\n",
            "0 quarters 1 dimes 12 nickels 30 pennies\n",
            "0 quarters 1 dimes 13 nickels 25 pennies\n",
            "0 quarters 1 dimes 14 nickels 20 pennies\n",
            "0 quarters 1 dimes 15 nickels 15 pennies\n",
            "0 quarters 1 dimes 16 nickels 10 pennies\n",
            "0 quarters 1 dimes 17 nickels 5 pennies\n",
            "0 quarters 1 dimes 18 nickels 0 pennies\n",
            "0 quarters 2 dimes 0 nickels 80 pennies\n",
            "0 quarters 2 dimes 1 nickels 75 pennies\n",
            "0 quarters 2 dimes 2 nickels 70 pennies\n",
            "0 quarters 2 dimes 3 nickels 65 pennies\n",
            "0 quarters 2 dimes 4 nickels 60 pennies\n",
            "0 quarters 2 dimes 5 nickels 55 pennies\n",
            "0 quarters 2 dimes 6 nickels 50 pennies\n",
            "0 quarters 2 dimes 7 nickels 45 pennies\n",
            "0 quarters 2 dimes 8 nickels 40 pennies\n",
            "0 quarters 2 dimes 9 nickels 35 pennies\n",
            "0 quarters 2 dimes 10 nickels 30 pennies\n",
            "0 quarters 2 dimes 11 nickels 25 pennies\n",
            "0 quarters 2 dimes 12 nickels 20 pennies\n",
            "0 quarters 2 dimes 13 nickels 15 pennies\n",
            "0 quarters 2 dimes 14 nickels 10 pennies\n",
            "0 quarters 2 dimes 15 nickels 5 pennies\n",
            "0 quarters 2 dimes 16 nickels 0 pennies\n",
            "0 quarters 3 dimes 0 nickels 70 pennies\n",
            "0 quarters 3 dimes 1 nickels 65 pennies\n",
            "0 quarters 3 dimes 2 nickels 60 pennies\n",
            "0 quarters 3 dimes 3 nickels 55 pennies\n",
            "0 quarters 3 dimes 4 nickels 50 pennies\n",
            "0 quarters 3 dimes 5 nickels 45 pennies\n",
            "0 quarters 3 dimes 6 nickels 40 pennies\n",
            "0 quarters 3 dimes 7 nickels 35 pennies\n",
            "0 quarters 3 dimes 8 nickels 30 pennies\n",
            "0 quarters 3 dimes 9 nickels 25 pennies\n",
            "0 quarters 3 dimes 10 nickels 20 pennies\n",
            "0 quarters 3 dimes 11 nickels 15 pennies\n",
            "0 quarters 3 dimes 12 nickels 10 pennies\n",
            "0 quarters 3 dimes 13 nickels 5 pennies\n",
            "0 quarters 3 dimes 14 nickels 0 pennies\n",
            "0 quarters 4 dimes 0 nickels 60 pennies\n",
            "0 quarters 4 dimes 1 nickels 55 pennies\n",
            "0 quarters 4 dimes 2 nickels 50 pennies\n",
            "0 quarters 4 dimes 3 nickels 45 pennies\n",
            "0 quarters 4 dimes 4 nickels 40 pennies\n",
            "0 quarters 4 dimes 5 nickels 35 pennies\n",
            "0 quarters 4 dimes 6 nickels 30 pennies\n",
            "0 quarters 4 dimes 7 nickels 25 pennies\n",
            "0 quarters 4 dimes 8 nickels 20 pennies\n",
            "0 quarters 4 dimes 9 nickels 15 pennies\n",
            "0 quarters 4 dimes 10 nickels 10 pennies\n",
            "0 quarters 4 dimes 11 nickels 5 pennies\n",
            "0 quarters 4 dimes 12 nickels 0 pennies\n",
            "0 quarters 5 dimes 0 nickels 50 pennies\n",
            "0 quarters 5 dimes 1 nickels 45 pennies\n",
            "0 quarters 5 dimes 2 nickels 40 pennies\n",
            "0 quarters 5 dimes 3 nickels 35 pennies\n",
            "0 quarters 5 dimes 4 nickels 30 pennies\n",
            "0 quarters 5 dimes 5 nickels 25 pennies\n",
            "0 quarters 5 dimes 6 nickels 20 pennies\n",
            "0 quarters 5 dimes 7 nickels 15 pennies\n",
            "0 quarters 5 dimes 8 nickels 10 pennies\n",
            "0 quarters 5 dimes 9 nickels 5 pennies\n",
            "0 quarters 5 dimes 10 nickels 0 pennies\n",
            "0 quarters 6 dimes 0 nickels 40 pennies\n",
            "0 quarters 6 dimes 1 nickels 35 pennies\n",
            "0 quarters 6 dimes 2 nickels 30 pennies\n",
            "0 quarters 6 dimes 3 nickels 25 pennies\n",
            "0 quarters 6 dimes 4 nickels 20 pennies\n",
            "0 quarters 6 dimes 5 nickels 15 pennies\n",
            "0 quarters 6 dimes 6 nickels 10 pennies\n",
            "0 quarters 6 dimes 7 nickels 5 pennies\n",
            "0 quarters 6 dimes 8 nickels 0 pennies\n",
            "0 quarters 7 dimes 0 nickels 30 pennies\n",
            "0 quarters 7 dimes 1 nickels 25 pennies\n",
            "0 quarters 7 dimes 2 nickels 20 pennies\n",
            "0 quarters 7 dimes 3 nickels 15 pennies\n",
            "0 quarters 7 dimes 4 nickels 10 pennies\n",
            "0 quarters 7 dimes 5 nickels 5 pennies\n",
            "0 quarters 7 dimes 6 nickels 0 pennies\n",
            "0 quarters 8 dimes 0 nickels 20 pennies\n",
            "0 quarters 8 dimes 1 nickels 15 pennies\n",
            "0 quarters 8 dimes 2 nickels 10 pennies\n",
            "0 quarters 8 dimes 3 nickels 5 pennies\n",
            "0 quarters 8 dimes 4 nickels 0 pennies\n",
            "0 quarters 9 dimes 0 nickels 10 pennies\n",
            "0 quarters 9 dimes 1 nickels 5 pennies\n",
            "0 quarters 9 dimes 2 nickels 0 pennies\n",
            "0 quarters 10 dimes 0 nickels 0 pennies\n",
            "1 quarters 0 dimes 0 nickels 75 pennies\n",
            "1 quarters 0 dimes 1 nickels 70 pennies\n",
            "1 quarters 0 dimes 2 nickels 65 pennies\n",
            "1 quarters 0 dimes 3 nickels 60 pennies\n",
            "1 quarters 0 dimes 4 nickels 55 pennies\n",
            "1 quarters 0 dimes 5 nickels 50 pennies\n",
            "1 quarters 0 dimes 6 nickels 45 pennies\n",
            "1 quarters 0 dimes 7 nickels 40 pennies\n",
            "1 quarters 0 dimes 8 nickels 35 pennies\n",
            "1 quarters 0 dimes 9 nickels 30 pennies\n",
            "1 quarters 0 dimes 10 nickels 25 pennies\n",
            "1 quarters 0 dimes 11 nickels 20 pennies\n",
            "1 quarters 0 dimes 12 nickels 15 pennies\n",
            "1 quarters 0 dimes 13 nickels 10 pennies\n",
            "1 quarters 0 dimes 14 nickels 5 pennies\n",
            "1 quarters 0 dimes 15 nickels 0 pennies\n",
            "1 quarters 1 dimes 0 nickels 65 pennies\n",
            "1 quarters 1 dimes 1 nickels 60 pennies\n",
            "1 quarters 1 dimes 2 nickels 55 pennies\n",
            "1 quarters 1 dimes 3 nickels 50 pennies\n",
            "1 quarters 1 dimes 4 nickels 45 pennies\n",
            "1 quarters 1 dimes 5 nickels 40 pennies\n",
            "1 quarters 1 dimes 6 nickels 35 pennies\n",
            "1 quarters 1 dimes 7 nickels 30 pennies\n",
            "1 quarters 1 dimes 8 nickels 25 pennies\n",
            "1 quarters 1 dimes 9 nickels 20 pennies\n",
            "1 quarters 1 dimes 10 nickels 15 pennies\n",
            "1 quarters 1 dimes 11 nickels 10 pennies\n",
            "1 quarters 1 dimes 12 nickels 5 pennies\n",
            "1 quarters 1 dimes 13 nickels 0 pennies\n",
            "1 quarters 2 dimes 0 nickels 55 pennies\n",
            "1 quarters 2 dimes 1 nickels 50 pennies\n",
            "1 quarters 2 dimes 2 nickels 45 pennies\n",
            "1 quarters 2 dimes 3 nickels 40 pennies\n",
            "1 quarters 2 dimes 4 nickels 35 pennies\n",
            "1 quarters 2 dimes 5 nickels 30 pennies\n",
            "1 quarters 2 dimes 6 nickels 25 pennies\n",
            "1 quarters 2 dimes 7 nickels 20 pennies\n",
            "1 quarters 2 dimes 8 nickels 15 pennies\n",
            "1 quarters 2 dimes 9 nickels 10 pennies\n",
            "1 quarters 2 dimes 10 nickels 5 pennies\n",
            "1 quarters 2 dimes 11 nickels 0 pennies\n",
            "1 quarters 3 dimes 0 nickels 45 pennies\n",
            "1 quarters 3 dimes 1 nickels 40 pennies\n",
            "1 quarters 3 dimes 2 nickels 35 pennies\n",
            "1 quarters 3 dimes 3 nickels 30 pennies\n",
            "1 quarters 3 dimes 4 nickels 25 pennies\n",
            "1 quarters 3 dimes 5 nickels 20 pennies\n",
            "1 quarters 3 dimes 6 nickels 15 pennies\n",
            "1 quarters 3 dimes 7 nickels 10 pennies\n",
            "1 quarters 3 dimes 8 nickels 5 pennies\n",
            "1 quarters 3 dimes 9 nickels 0 pennies\n",
            "1 quarters 4 dimes 0 nickels 35 pennies\n",
            "1 quarters 4 dimes 1 nickels 30 pennies\n",
            "1 quarters 4 dimes 2 nickels 25 pennies\n",
            "1 quarters 4 dimes 3 nickels 20 pennies\n",
            "1 quarters 4 dimes 4 nickels 15 pennies\n",
            "1 quarters 4 dimes 5 nickels 10 pennies\n",
            "1 quarters 4 dimes 6 nickels 5 pennies\n",
            "1 quarters 4 dimes 7 nickels 0 pennies\n",
            "1 quarters 5 dimes 0 nickels 25 pennies\n",
            "1 quarters 5 dimes 1 nickels 20 pennies\n",
            "1 quarters 5 dimes 2 nickels 15 pennies\n",
            "1 quarters 5 dimes 3 nickels 10 pennies\n",
            "1 quarters 5 dimes 4 nickels 5 pennies\n",
            "1 quarters 5 dimes 5 nickels 0 pennies\n",
            "1 quarters 6 dimes 0 nickels 15 pennies\n",
            "1 quarters 6 dimes 1 nickels 10 pennies\n",
            "1 quarters 6 dimes 2 nickels 5 pennies\n",
            "1 quarters 6 dimes 3 nickels 0 pennies\n",
            "1 quarters 7 dimes 0 nickels 5 pennies\n",
            "1 quarters 7 dimes 1 nickels 0 pennies\n",
            "2 quarters 0 dimes 0 nickels 50 pennies\n",
            "2 quarters 0 dimes 1 nickels 45 pennies\n",
            "2 quarters 0 dimes 2 nickels 40 pennies\n",
            "2 quarters 0 dimes 3 nickels 35 pennies\n",
            "2 quarters 0 dimes 4 nickels 30 pennies\n",
            "2 quarters 0 dimes 5 nickels 25 pennies\n",
            "2 quarters 0 dimes 6 nickels 20 pennies\n",
            "2 quarters 0 dimes 7 nickels 15 pennies\n",
            "2 quarters 0 dimes 8 nickels 10 pennies\n",
            "2 quarters 0 dimes 9 nickels 5 pennies\n",
            "2 quarters 0 dimes 10 nickels 0 pennies\n",
            "2 quarters 1 dimes 0 nickels 40 pennies\n",
            "2 quarters 1 dimes 1 nickels 35 pennies\n",
            "2 quarters 1 dimes 2 nickels 30 pennies\n",
            "2 quarters 1 dimes 3 nickels 25 pennies\n",
            "2 quarters 1 dimes 4 nickels 20 pennies\n",
            "2 quarters 1 dimes 5 nickels 15 pennies\n",
            "2 quarters 1 dimes 6 nickels 10 pennies\n",
            "2 quarters 1 dimes 7 nickels 5 pennies\n",
            "2 quarters 1 dimes 8 nickels 0 pennies\n",
            "2 quarters 2 dimes 0 nickels 30 pennies\n",
            "2 quarters 2 dimes 1 nickels 25 pennies\n",
            "2 quarters 2 dimes 2 nickels 20 pennies\n",
            "2 quarters 2 dimes 3 nickels 15 pennies\n",
            "2 quarters 2 dimes 4 nickels 10 pennies\n",
            "2 quarters 2 dimes 5 nickels 5 pennies\n",
            "2 quarters 2 dimes 6 nickels 0 pennies\n",
            "2 quarters 3 dimes 0 nickels 20 pennies\n",
            "2 quarters 3 dimes 1 nickels 15 pennies\n",
            "2 quarters 3 dimes 2 nickels 10 pennies\n",
            "2 quarters 3 dimes 3 nickels 5 pennies\n",
            "2 quarters 3 dimes 4 nickels 0 pennies\n",
            "2 quarters 4 dimes 0 nickels 10 pennies\n",
            "2 quarters 4 dimes 1 nickels 5 pennies\n",
            "2 quarters 4 dimes 2 nickels 0 pennies\n",
            "2 quarters 5 dimes 0 nickels 0 pennies\n",
            "3 quarters 0 dimes 0 nickels 25 pennies\n",
            "3 quarters 0 dimes 1 nickels 20 pennies\n",
            "3 quarters 0 dimes 2 nickels 15 pennies\n",
            "3 quarters 0 dimes 3 nickels 10 pennies\n",
            "3 quarters 0 dimes 4 nickels 5 pennies\n",
            "3 quarters 0 dimes 5 nickels 0 pennies\n",
            "3 quarters 1 dimes 0 nickels 15 pennies\n",
            "3 quarters 1 dimes 1 nickels 10 pennies\n",
            "3 quarters 1 dimes 2 nickels 5 pennies\n",
            "3 quarters 1 dimes 3 nickels 0 pennies\n",
            "3 quarters 2 dimes 0 nickels 5 pennies\n",
            "3 quarters 2 dimes 1 nickels 0 pennies\n",
            "4 quarters 0 dimes 0 nickels 0 pennies\n"
          ],
          "name": "stdout"
        }
      ]
    },
    {
      "cell_type": "markdown",
      "metadata": {
        "id": "rUPDjYiIkbgs"
      },
      "source": [
        "##### Q7. Ask the user to enter two positive integers between 1 and 100. Read those integers. Then output a multiplication table of the first number times the second number. \n",
        "\n",
        "Note: You have to ensure the entered numbers are between 1 and 100 only.\n",
        "\n",
        "```\n",
        "Please enter an integer: 5\n",
        "Please enter another integer: 20\n",
        "5 x 1 = 5\n",
        "5 x 2 = 10\n",
        "5 x 3 = 15\n",
        "…\n",
        "5 x 20 = 100\n",
        "```"
      ]
    },
    {
      "cell_type": "code",
      "metadata": {
        "id": "Qg0Orv1klHzA",
        "colab": {
          "base_uri": "https://localhost:8080/"
        },
        "outputId": "e66b85c5-a8a6-4592-b0b4-adf230af4229"
      },
      "source": [
        "# Type solution here\r\n",
        "first = int(input(\"Please enter an integer: \"))\r\n",
        "second = int(input(\"Please ener another integer: \"))\r\n",
        "if first > 100 or first < 1 or second > 100 or second < 1:\r\n",
        "  print(\"Invalid input. \")\r\n",
        "else:\r\n",
        "  for i in range(1, second+1):\r\n",
        "    print(str(first) + \" x \" + str(i) + \" = \" + str(first*i))"
      ],
      "execution_count": 21,
      "outputs": [
        {
          "output_type": "stream",
          "text": [
            "Please enter an integer: 10\n",
            "Please ener another integer: 10\n",
            "10 x 1 = 10\n",
            "10 x 2 = 20\n",
            "10 x 3 = 30\n",
            "10 x 4 = 40\n",
            "10 x 5 = 50\n",
            "10 x 6 = 60\n",
            "10 x 7 = 70\n",
            "10 x 8 = 80\n",
            "10 x 9 = 90\n",
            "10 x 10 = 100\n"
          ],
          "name": "stdout"
        }
      ]
    },
    {
      "cell_type": "markdown",
      "metadata": {
        "id": "SbnbPUPTlLD9"
      },
      "source": [
        "##### Q8. Write a program to ask the user to enter a password. Then check to see if it is a valid password based on these requirements -\n",
        "\n",
        "Must be at least 8 characters long\n",
        "\n",
        "Must contain both uppercase and lowercase letters\n",
        "\n",
        "Must contain at least one number between 0-9\n",
        "\n",
        "Must contain a special character -!,@,#,$\n",
        "\n",
        "If the password is not valid, ask the user to re-enter. This should continue until the user enters a valid password. After a valid password is entered, print Access Granted!\n",
        "\n",
        "```\n",
        "Please enter a password. Follow these requirements - \n",
        "a. Must be at least 8 characters long\n",
        "b. Must contain both uppercase and lowercase letters\n",
        "c. Must contain at least one number between 0-9\n",
        "d. Must contain a special character -!,@,#,$\n",
        "Password: HelloWorld1\n",
        "Invalid password. Try again!\n",
        "Password: Hello@World1\n",
        "Access Granted!\n",
        "```\n"
      ]
    },
    {
      "cell_type": "code",
      "metadata": {
        "id": "OXmZ177Rl-RV",
        "colab": {
          "base_uri": "https://localhost:8080/"
        },
        "outputId": "b1fbc7e6-26d8-4464-9859-6f29a219959c"
      },
      "source": [
        "# Type solution here\r\n",
        "\r\n",
        "def check(p):\r\n",
        "  upper = False\r\n",
        "  lower = False\r\n",
        "  num = False\r\n",
        "  special = False\r\n",
        "  for i in p:\r\n",
        "    if i.isupper():\r\n",
        "      upper = True\r\n",
        "    if i.islower():\r\n",
        "      lower = True\r\n",
        "    if i.isdigit():\r\n",
        "      num = True\r\n",
        "    if i == \"!\" or i == \"@\" or i == \"#\" or i == \"$\":\r\n",
        "      special = True\r\n",
        "  return upper and lower and num and special and len(p) > 7\r\n",
        "\r\n",
        "print(\"Please enter a password. Follow these requirements - \\n\\\r\n",
        "a. Must be at least 8 characters long\\n\\\r\n",
        "b. Must contain both uppercase and lowercase letters\\n\\\r\n",
        "c. Must contain at least one number between 0-9\\n\\\r\n",
        "d. Must contain a special character -!,@,#,$\")\r\n",
        "\r\n",
        "p = input(\"Password: \")\r\n",
        "while( not check(p)):\r\n",
        "  print(\"Invalid Password. Try again!\")\r\n",
        "  p = input(\"Password: \")\r\n",
        "\r\n",
        "print(\"Access Granted!\")\r\n",
        "\r\n"
      ],
      "execution_count": 8,
      "outputs": [
        {
          "output_type": "stream",
          "text": [
            "Please enter a password. Follow these requirements - \n",
            "a. Must be at least 8 characters long\n",
            "b. Must contain both uppercase and lowercase letters\n",
            "c. Must contain at least one number between 0-9\n",
            "d. Must contain a special character -!,@,#,$\n",
            "Password: Hello@World!\n",
            "Invalid Password. Try again!\n",
            "Password: hell0@worlD\n",
            "Access Granted!\n"
          ],
          "name": "stdout"
        }
      ]
    },
    {
      "cell_type": "markdown",
      "metadata": {
        "id": "-0sdutTDnTKA"
      },
      "source": [
        "##### Q9. Given the score sheet of participants in a competition, you are required to find the runner-up score. You are given scores in a list. Find the score of the runner-up.\n",
        "\n",
        "```\n",
        "list1 - [2, 3, 6, 6, 5]\n",
        "runner_up - 5\n",
        "\n",
        "list2 - [1, 7, 5, 3, 10, 4, 5, 5, 6, 11]\n",
        "runner_up - 10\n",
        "```"
      ]
    },
    {
      "cell_type": "code",
      "metadata": {
        "id": "12YP9OaqpGRK",
        "colab": {
          "base_uri": "https://localhost:8080/"
        },
        "outputId": "69dd1f66-c85b-448f-98b3-165bfaa175d2"
      },
      "source": [
        "# Type solution here\r\n",
        "def runnerUp(scoreSheet):\r\n",
        "  greatest = max(scoreSheet)\r\n",
        "  scoreSheet = [i for i in scoreSheet if i != greatest]\r\n",
        "  print(\"runner_up - \" + str(max(scoreSheet)))\r\n",
        "\r\n",
        "list1 = [2, 3, 6, 6, 5]\r\n",
        "runnerUp(list1)\r\n",
        "list2 = [1, 7, 5, 3, 10, 4, 5, 5, 6, 11]\r\n",
        "runnerUp(list2)"
      ],
      "execution_count": null,
      "outputs": [
        {
          "output_type": "stream",
          "text": [
            "runner_up - 5\n",
            "runner_up - 10\n"
          ],
          "name": "stdout"
        }
      ]
    }
  ]
}